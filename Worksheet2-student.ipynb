{
 "cells": [
  {
   "cell_type": "markdown",
   "metadata": {},
   "source": [
    "\n",
    "# UFCFFY-15-M Cyber Security Analytics 2024-25\n",
    "\n",
    "## Portfolio Assignment: Worksheet 2\n",
    "\n",
    "## Conduct an investigation on a URL database to develop a DGA classification system using machine learning techniques\n",
    "---\n",
    "\n",
    "For this task, the company **\"GCETtech\"** enlist your help once more. They have identified a number of suspicious URLs on their logging systems, suspecting that these URLs contain various malware, and so require your expertise to investigate these further. Specifically, they seek a machine learning approach to identify the malware families as observed on their network.\n",
    "\n",
    "You will need to develop a machine learning tool using Python and scikit-learn that can identify URLs based on [Domain Generator Algorithms (DGA)](https://blog.malwarebytes.com/security-world/2016/12/explained-domain-generating-algorithm/), widely used by command and control malware to avoid static IP blocking.\n",
    "\n",
    "You need to demonstrate experimental design of appropriate feature engineering to characterise the data, that will be used to inform your machine learning classifiers. You should show **at least two** schemes of curating appropriate features, based on the raw data as provided, and show this impacts the performance of your classifier.\n",
    "\n",
    "You are also expected to utilise **2 different classifiers** using the scikit-learn library, and show how the model parameters can impact the performance of the classifiers. It is suggested that you use a Logistic Regression, a Random Forest Classifier, and a Multi-Layer Perceptron Classifier.\n",
    "\n",
    "Finally, you should investigate the **performance and explainability** of your classifiers. It is recommended that you use the confusion matrix approach along with performance metrics, to assess how your model performs as well as when and why misclassification may occur. In reporting your findings, you should explain and reflect on this to understand which malware families are more separable, and which are more challenging to classify, using this approach. It is expected that a good performing classifier will achieve over 90% accuracy - however you will be assessed on your experimental design in finding a suitable classifier to achieve this.\n",
    "\n",
    "**Dataset**: Please see the folder ***\"Portfolio Assignment\"*** under the Assignment tab on Moodle for further detail related to the access and download of the necessary dataset.\n",
    "\n",
    "**Hint**: You should conduct research using the [scikit-learn documentation and API reference](https://scikit-learn.org/stable/user_guide.html), making full use of the sample code that has been provided for your to help guide your research. You should also research Shapley Additive Explanations, and utilise the [online documentation](https://shap.readthedocs.io/en/latest/index.html). You should also think about a suitable means of generating input features for your classifier that capture sequential properties of text data. \n",
    "\n",
    "### Assessment and Marking\n",
    "---\n",
    "The completion of this worksheet is worth **35%** of your portfolio assignment for the UFCFFY-15-M Cyber Security Analytics (CSA) module.\n",
    "\n",
    "This is an **unguided** task that will be graded against the following core criteria:\n",
    "\n",
    "* **A clear and iterative experimental approach for developing and refining the classifier to improve performance (12 Marks)**\n",
    "  * *For the higher mark band, it would be expected that you would show an initial experimental design, and then refine this through improving the feature engineering stage, subsequently improving the model performance.*\n",
    "* **Suitable feature engineering stages demonstrating at least two different methods and their performance (12 Marks)**\n",
    "  * *For the higher mark band, it would be expected that you would demonstrate two sensible approaches for curating features, with strong justification as to why they would characterise the data fairly.*\n",
    "* **Suitable use of the sci-kit machine learning library (6 Marks)**\n",
    "  * *For the higher mark band, it would be expected that you would show a good comprehension of the library usage.*\n",
    "* **Clarity and presentation (5 Marks)**\n",
    "  * *For the higher mark band, it would be expected that your notebook is clear and concise, with good use of Markdown to annotate your work professionally.*\n",
    "\n",
    "### Submission Documents\n",
    "---\n",
    "\n",
    "Your submission for this task should include:\n",
    "\n",
    "- **1 Jupyter Notebook file (*.ipynb)** \n",
    "\n",
    "You should complete your work using the ipynb file provided (i.e., this document). Once you have completed your work, you should ensure that all code cells have been executed and then you should save your notebook. **Please note: Staff will NOT execute your notebook during marking. It is your responsibility to ensure that your saved notebook shows the code cell outputs as required.**\n",
    "\n",
    "Please see the Assignment Specification document available on Moodle for further information on submission dates.\n",
    "\n",
    "Your portfolio submitted to Moodle must contain 3 independent documents:\n",
    "\n",
    "- ***STUDENT_ID-TASK1.ipynb*** (your iPYNB with all cells executed)\n",
    "- ***STUDENT_ID-TASK2.ipynb*** (your iPYNB with all cells executed)\n",
    "- ***STUDENT_ID-TASK3.pdf*** (a PDF report of your research investigation)\n",
    "\n",
    "### Contact\n",
    "---\n",
    "\n",
    "Questions about this assignment should be directed to your module leader (mudassar.h@uwe.ac.uk).\n",
    "\n",
    "---"
   ]
  },
  {
   "cell_type": "markdown",
   "metadata": {},
   "source": [
    "# Student ID: -ENTER STUDENT NUMBER-\n",
    "\n",
    "- **By submitting this assignment to Moodle as part of your portfolio, I declare that the submission is my own work.**\n",
    "\n",
    "***"
   ]
  },
  {
   "cell_type": "code",
   "execution_count": 7,
   "metadata": {},
   "outputs": [],
   "source": [
    "# Import libraries as required\n",
    "import pandas as pd\n",
    "import numpy as np\n",
    "import matplotlib.pyplot as plt\n",
    "pd.set_option('display.max_rows', 10)\n",
    "\n",
    "from collections import Counter\n",
    "from timeit import timeit\n",
    "from sklearn.ensemble import RandomForestClassifier\n",
    "from sklearn.feature_extraction.text import CountVectorizer\n",
    "from sklearn.linear_model import LogisticRegression\n",
    "from sklearn.metrics import accuracy_score, confusion_matrix, ConfusionMatrixDisplay\n",
    "from sklearn.model_selection import train_test_split\n",
    "from sklearn.neural_network import MLPClassifier\n",
    "from sklearn.preprocessing import LabelEncoder"
   ]
  },
  {
   "cell_type": "code",
   "execution_count": null,
   "metadata": {},
   "outputs": [],
   "source": [
    "# Load in the data set as required\n",
    "df = pd.read_csv('./task2-dga/dga-24000.csv')\n",
    "df"
   ]
  },
  {
   "cell_type": "code",
   "execution_count": 3,
   "metadata": {},
   "outputs": [
    {
     "data": {
      "text/plain": [
       "Family\n",
       "banjori     1000\n",
       "benign      1000\n",
       "tinba       1000\n",
       "symmi       1000\n",
       "suppobox    1000\n",
       "            ... \n",
       "locky       1000\n",
       "gameover    1000\n",
       "flubot      1000\n",
       "emotet      1000\n",
       "virut       1000\n",
       "Length: 24, dtype: int64"
      ]
     },
     "execution_count": 3,
     "metadata": {},
     "output_type": "execute_result"
    }
   ],
   "source": [
    "# Count how many entries exist for each malware family (plus the benign class)\n",
    "df.value_counts('Family')"
   ]
  },
  {
   "cell_type": "markdown",
   "metadata": {},
   "source": [
    "# Begin your investigation..."
   ]
  },
  {
   "cell_type": "code",
   "execution_count": null,
   "metadata": {},
   "outputs": [],
   "source": []
  }
 ],
 "metadata": {
  "kernelspec": {
   "display_name": "Python 3 (ipykernel)",
   "language": "python",
   "name": "python3"
  },
  "language_info": {
   "codemirror_mode": {
    "name": "ipython",
    "version": 3
   },
   "file_extension": ".py",
   "mimetype": "text/x-python",
   "name": "python",
   "nbconvert_exporter": "python",
   "pygments_lexer": "ipython3",
   "version": "3.9.18"
  },
  "widgets": {
   "application/vnd.jupyter.widget-state+json": {
    "state": {},
    "version_major": 2,
    "version_minor": 0
   }
  }
 },
 "nbformat": 4,
 "nbformat_minor": 4
}
