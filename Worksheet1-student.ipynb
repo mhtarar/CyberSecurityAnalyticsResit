{
 "cells": [
  {
   "cell_type": "markdown",
   "metadata": {},
   "source": [
    "# UFCFFY-15-M Cyber Security Analytics 2024-25\n",
    "\n",
    "## Portfolio Assignment: Worksheet 1\n",
    "## Investigate a web server application logs to identify malicious attack activity using Python data science libraries\n",
    "---\n",
    "\n",
    "For this task, the company **\"GCETtech\"** have enlisted your support as a security data analyst. They suspect some kind of attack on their web server application, however they are unable to diagnose what has happened exactly, or which of their users have caused the attack. The company have provided you with their recent log data records. You will need to complete a series of tasks to examine the data further, and then expand your investigation to uncover any malicious activity.\n",
    "\n",
    "**Dataset**: You will be randomly issued a **unique dataset** based on your UWE username - **failure to use the dataset assigned to your username will result in a zero grade**. Please see the folder ***\"Portfolio Assignment\"*** under the Assignment tab on Moodle for further detail related to the access and download of the necessary dataset.\n",
    "\n",
    "### Assessment and Marking\n",
    "---\n",
    "The completion of this worksheet is worth **20%** of your portfolio assignment for the UFCFFY-15-M Cyber Security Analytics (CSA) module. Each question states the possible marks available for a correct answer. Where a question is worth more than 1 mark, a partial solution to the question may warrant partial marks.\n",
    "\n",
    "### Submission Documents\n",
    "---\n",
    "\n",
    "Your submission for this task should include:\n",
    "\n",
    "- **1 Jupyter Notebook file (*.ipynb)** \n",
    "\n",
    "You should complete your work using the ipynb file provided (i.e., this document). Once you have completed your work, you should ensure that all code cells have been executed and then you should save your notebook. **Please note: Staff will NOT execute your notebook during marking. It is your responsibility to ensure that your saved notebook shows the code cell outputs as required.**\n",
    "\n",
    "Please see the Assignment Specification document available on Moodle for further information on submission dates.\n",
    "\n",
    "Your portfolio submitted to Moodle must contain 3 independent documents:\n",
    "\n",
    "- ***STUDENT_ID-TASK1.ipynb*** (your iPYNB with all cells executed)\n",
    "- ***STUDENT_ID-TASK2.ipynb*** (your iPYNB with all cells executed)\n",
    "- ***STUDENT_ID-TASK3.pdf*** (a PDF report of your research investigation)\n",
    "\n",
    "### Contact\n",
    "---\n",
    "\n",
    "Questions about this assignment should be directed to your module leader (mudassar.h@gcet.edu.om).\n",
    "\n",
    "---"
   ]
  },
  {
   "cell_type": "markdown",
   "metadata": {},
   "source": [
    "# Student ID: -ENTER STUDENT NUMBER-\n",
    "\n",
    "- **By submitting this assignment to Moodle as part of your portfolio, I declare that the submission is my own work.**\n",
    "\n",
    "***"
   ]
  },
  {
   "cell_type": "code",
   "execution_count": 215,
   "metadata": {},
   "outputs": [],
   "source": [
    "# Import libraries as required\n",
    "# it would be useful to research what these libraries do\n",
    "import pandas as pd\n",
    "import numpy as np\n",
    "import networkx as nx\n",
    "import matplotlib.pyplot as plt\n",
    "pd.set_option('display.max_rows', 10)"
   ]
  },
  {
   "cell_type": "markdown",
   "metadata": {},
   "source": [
    "In the cell below, you will need to change `data_file` to your own specific data filename. The example data file is purely to demonstrate some initial steps for your investigation and should not be used."
   ]
  },
  {
   "cell_type": "code",
   "execution_count": 216,
   "metadata": {},
   "outputs": [],
   "source": [
    "data_file = 'ENTER_YOUR_DATA_FILE_HERE'"
   ]
  },
  {
   "cell_type": "code",
   "execution_count": null,
   "metadata": {},
   "outputs": [],
   "source": [
    "# Load in the data set as required\n",
    "data = pd.read_csv(data_file, delim_whitespace=True)\n",
    "temp_df = data[data.columns[:-1]]\n",
    "temp_df.columns = data.columns[1:]\n",
    "data = temp_df\n",
    "data['datetime'] = pd.to_datetime(data['date'] + \" \" + data['time'])\n",
    "data"
   ]
  },
  {
   "cell_type": "markdown",
   "metadata": {},
   "source": [
    "### Question 1: Show how often each of the unique machines (defined by client IP address 'c-ip') have accessed this web server application? (2 Marks)\n",
    "\n",
    "*Hint: Think about how you would count the occurrence of all possible values within a Dataframe column.*"
   ]
  },
  {
   "cell_type": "code",
   "execution_count": 218,
   "metadata": {},
   "outputs": [],
   "source": [
    "# ANSWER"
   ]
  },
  {
   "cell_type": "markdown",
   "metadata": {},
   "source": [
    "### Question 2: Filter the data to show all rows where 'cs(User-Agent)' contain the string 'Win64? (2 Marks)"
   ]
  },
  {
   "cell_type": "code",
   "execution_count": 222,
   "metadata": {},
   "outputs": [],
   "source": [
    "# ANSWER"
   ]
  },
  {
   "cell_type": "markdown",
   "metadata": {},
   "source": [
    "### Question 3: Plot a Bar Chart showing the number of entries for each value in 'sc-status'. (2 Marks)\n",
    "\n",
    "*Hint: Matplotlib and Pandas are closely linked - some pandas functions have matplotlib functions embedded. Read the documentation for more detail.*\n"
   ]
  },
  {
   "cell_type": "code",
   "execution_count": 224,
   "metadata": {},
   "outputs": [],
   "source": [
    "# ANSWER"
   ]
  },
  {
   "cell_type": "markdown",
   "metadata": {},
   "source": [
    "### (Advanced) Question 4: Filter and Plot a Network graph using the NetworkX library based on the criteria below (5 Marks)\n",
    "\n",
    "* Filter the data to only the 20 most active IP addresses and plot this using a Network chart **(2 Mark)**.\n",
    "* (Advanced) Scale each client node within the chart based on the amount of activity **(3 Marks)**."
   ]
  },
  {
   "cell_type": "code",
   "execution_count": 226,
   "metadata": {},
   "outputs": [],
   "source": [
    "# ANSWER"
   ]
  },
  {
   "cell_type": "markdown",
   "metadata": {},
   "source": [
    "### Question 5:  Investigate the dataset further to uncover the suspicious activity (9 marks)\n",
    "\n",
    "This unguided question will be graded against the following criteria:\n",
    "\n",
    "- Identifying all suspicious activity within your dataset **(6 Marks)**\n",
    "- Clarity and presentation **(3 Marks)**\n",
    "\n",
    "You should state all suspicious IP addresses that you have identified as part of your conclusion, and you should explain in clear written English how you have uncovered this information, based on how you have used Python code for data investigation. This should be clear and concise, and you only need to include code that helped you to solve the challenge."
   ]
  },
  {
   "cell_type": "code",
   "execution_count": 227,
   "metadata": {},
   "outputs": [],
   "source": [
    "# ANSWER"
   ]
  }
 ],
 "metadata": {
  "kernelspec": {
   "display_name": "Python 3 (ipykernel)",
   "language": "python",
   "name": "python3"
  },
  "language_info": {
   "codemirror_mode": {
    "name": "ipython",
    "version": 3
   },
   "file_extension": ".py",
   "mimetype": "text/x-python",
   "name": "python",
   "nbconvert_exporter": "python",
   "pygments_lexer": "ipython3",
   "version": "3.9.18"
  },
  "widgets": {
   "application/vnd.jupyter.widget-state+json": {
    "state": {},
    "version_major": 2,
    "version_minor": 0
   }
  }
 },
 "nbformat": 4,
 "nbformat_minor": 4
}
