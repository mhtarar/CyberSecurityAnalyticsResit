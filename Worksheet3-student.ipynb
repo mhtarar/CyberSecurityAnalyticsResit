{
 "cells": [
  {
   "cell_type": "markdown",
   "metadata": {},
   "source": [
    "\n",
    "# UFCFFY-15-M Cyber Security Analytics 2024-25\n",
    "\n",
    "## Portfolio Assignment: Worksheet 3\n",
    "\n",
    "## Conduct a practical research study using a virtualised infrastructure to simulate attacks and identify these through a SIEM platform\n",
    "---\n",
    "\n",
    "For this task, you will be provided with a virtualised infrastructure which you can utilise, or you can develop your own platform based on the UWEcyber VM and the related unassessed lab materials provided during the course. \n",
    "\n",
    "Your task is to deploy a functional environment where you can log and monitor activities conducted on remote systems (within your VM network) using a SIEM (Security Information and Event Management) system. You need to demonstrate your ability to conduct some form of attack within this infrastructure, and detect this via the appropriate data logs as captured by your SIEM.\n",
    "\n",
    "You will need to be able to document your process and report your findings, evidence by screenshots and with written critical reflection. The purpose of this task is to research and demonstrate your creativity. A simplistic or basic attack will likely warrent a basic mark, whereas a more sophsitcated approach that is clearly justified and well documented will attract a greater mark. \n",
    "\n",
    "The following resources will likely be useful as part of your initial research:\n",
    "\n",
    "* GoibhniUWE (pronounced *Go-Bin-U-WE*) - accessible from Blackboard (*recommended platform for getting started*)\n",
    "* [DetectionLab](https://www.detectionlab.network/)\n",
    "* [Splunk Attack Range](https://github.com/splunk/attack_range)\n",
    "* [Atomic Red Team](https://atomicredteam.io/) \n",
    "* [Splunk](https://www.detectionlab.network/usage/splunk/)\n",
    "* [Wazuh](https://wazuh.com/)\n",
    "* [Elastic](https://www.elastic.co/)\n",
    "\n",
    "It is strongly recommended that you study the [GoibhniUWE video tutorial](https://uwe.cloud.panopto.eu/Panopto/Pages/Viewer.aspx?id=6a0d341e-8288-416c-9fff-afb9012b0fe6&start=0), as this provides a simple approach that may enable you to get started with this task. This would provide a basic solution that would warrant a basic mark, however, further creativity on your part is required to achieve the higher marks. This would require building your own infrastructure (possibly using tools such as Splunk Attack Range, DetectionLab, or Wazuh), and demonstrating a more varied and sophisticated range of attacks on your virtualised infrastructure.\n",
    "\n",
    "**Goibhniu, DetectionLab and Splunk Attack Range are all resource intensive systems for running multiple virtual machines. If your personal computing facilities do not meet this specification, it is strongly advised that you use the University-lab facilities and an external solid state drive. Most campus machines have at least 32GB RAM which should be sufficient for running multiple VMs within these environments.**\n",
    "\n",
    "### Assessment and Marking\n",
    "---\n",
    "\n",
    "The completion of this worksheet is worth **45%** of your portfolio assignment for the UFCFFY-15-M Cyber Security Analytics (CSA) module.\n",
    "\n",
    "This is an **unguided research task** that will be graded against the following core criteria:\n",
    "\n",
    "* **Infrastructure setup and research (10 Marks)**\n",
    "  * *For a basic pass mark, you would need to demonstrate fair understanding of how to use an existing infrastructure platform such as GoibhniUWE.*\n",
    "  * *For the higher mark band, it would be expected that you would demonstrate excellent knowledge of setting up an independent virtual environment that is representative of a complex operational environment.*\n",
    "* **Attack execution (25 Marks)**\n",
    "  * *For a basic pass mark, you would need to be able to conduct attacks in the pre-configured environment, and give a basic explanation of their usage.*\n",
    "  * *For the higher mark band, it would be expected that you demonstrate independence of learning through research, to identify and deploy varied and complex attacks in your environment beyond those used in exmample environments.*\n",
    "* **Clarity and presentation (10 Marks)**\n",
    "  * *For the higher mark band, it would be expected that your report demonstrates excellent presentation to a professional and publishable standard.*\n",
    "\n",
    "\n",
    "### Submission Documents\n",
    "---\n",
    "\n",
    "Your submission for this task should include:\n",
    "\n",
    "- **1 Report Document in PDF format**. You should provide a short written report of your investigation **(maximum 1500 words)** complete with evidence of your infrastructure setup, attack execution, and identification of attacks. You will need to include screenshots as part of your evidence, and all included figures (screenshots) should be discussed in the body of your report. Your report must be within the word limit specified, and you should clearly state the word count of your report on your report cover page. Any content over the word limit will not be taken into account. This is a mini research project, and so you are expected to seek out informationabout suitable attack vectors and defensive strategies. You are expected to show that you are able to research these findings both to understand common attack vectors and also to understand how defensive strategies will help to identify these attacks, and introduce mitigations against their usage. You must document your use of any online/3rd party resources giving appropriate citation and recognition to existing works - failure to do so will incur a mark penalty.\n",
    "\n",
    "**This is an individual assignment and your report should represent your own work.**\n",
    "\n",
    "Please see the Assignment Specification document available on Moodle for further information on submission dates.\n",
    "\n",
    "Your portfolio submitted to Moodle must contain 3 independent documents:\n",
    "\n",
    "- ***STUDENT_ID-TASK1.ipynb*** (your iPYNB with all cells executed)\n",
    "- ***STUDENT_ID-TASK2.ipynb*** (your iPYNB with all cells executed)\n",
    "- ***STUDENT_ID-TASK3.pdf*** (a PDF report of your research investigation)\n",
    "\n",
    "### Contact\n",
    "---\n",
    "\n",
    "Questions about this assignment should be directed to your module leader (mudassar.h@gcet.edu.om).\n",
    "\n",
    "---"
   ]
  },
  {
   "cell_type": "code",
   "execution_count": null,
   "metadata": {},
   "outputs": [],
   "source": []
  }
 ],
 "metadata": {
  "kernelspec": {
   "display_name": "Python 3 (ipykernel)",
   "language": "python",
   "name": "python3"
  },
  "language_info": {
   "codemirror_mode": {
    "name": "ipython",
    "version": 3
   },
   "file_extension": ".py",
   "mimetype": "text/x-python",
   "name": "python",
   "nbconvert_exporter": "python",
   "pygments_lexer": "ipython3",
   "version": "3.9.18"
  },
  "widgets": {
   "application/vnd.jupyter.widget-state+json": {
    "state": {},
    "version_major": 2,
    "version_minor": 0
   }
  }
 },
 "nbformat": 4,
 "nbformat_minor": 4
}
